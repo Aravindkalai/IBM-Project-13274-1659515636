{
  "nbformat": 4,
  "nbformat_minor": 0,
  "metadata": {
    "colab": {
      "provenance": []
    },
    "kernelspec": {
      "name": "python3",
      "display_name": "Python 3"
    },
    "language_info": {
      "name": "python"
    }
  },
  "cells": [
    {
      "cell_type": "code",
      "execution_count": 1,
      "metadata": {
        "colab": {
          "base_uri": "https://localhost:8080/"
        },
        "id": "LufOatVHHHG9",
        "outputId": "6ad31b0b-7a9b-4542-d963-4fb47866168d"
      },
      "outputs": [
        {
          "output_type": "stream",
          "name": "stdout",
          "text": [
            "Looking in indexes: https://pypi.org/simple, https://us-python.pkg.dev/colab-wheels/public/simple/\n",
            "Collecting cloudant\n",
            "  Downloading cloudant-2.15.0-py3-none-any.whl (80 kB)\n",
            "\u001b[K     |████████████████████████████████| 80 kB 5.4 MB/s \n",
            "\u001b[?25hRequirement already satisfied: requests<3.0.0,>=2.7.0 in /usr/local/lib/python3.7/dist-packages (from cloudant) (2.23.0)\n",
            "Requirement already satisfied: idna<3,>=2.5 in /usr/local/lib/python3.7/dist-packages (from requests<3.0.0,>=2.7.0->cloudant) (2.10)\n",
            "Requirement already satisfied: chardet<4,>=3.0.2 in /usr/local/lib/python3.7/dist-packages (from requests<3.0.0,>=2.7.0->cloudant) (3.0.4)\n",
            "Requirement already satisfied: urllib3!=1.25.0,!=1.25.1,<1.26,>=1.21.1 in /usr/local/lib/python3.7/dist-packages (from requests<3.0.0,>=2.7.0->cloudant) (1.24.3)\n",
            "Requirement already satisfied: certifi>=2017.4.17 in /usr/local/lib/python3.7/dist-packages (from requests<3.0.0,>=2.7.0->cloudant) (2022.9.24)\n",
            "Installing collected packages: cloudant\n",
            "Successfully installed cloudant-2.15.0\n"
          ]
        }
      ],
      "source": [
        "pip install cloudant"
      ]
    },
    {
      "cell_type": "code",
      "source": [
        "from cloudant.client import Cloudant"
      ],
      "metadata": {
        "id": "lvxOjvjkHLmg"
      },
      "execution_count": 2,
      "outputs": []
    },
    {
      "cell_type": "code",
      "source": [
        "client=Cloudant.iam('3464ec7f-86a2-48e8-8e90-4bf67cd66566-bluemix','SvKTwqneN8GdkXXhFOzriIc96ev1s1gc56n0UsUse_1J',connect=True)"
      ],
      "metadata": {
        "id": "MG69-Zc8HYUx"
      },
      "execution_count": 6,
      "outputs": []
    },
    {
      "cell_type": "code",
      "source": [
        "my_database=client.create_database('my_database')"
      ],
      "metadata": {
        "id": "CROnESZCRjS6"
      },
      "execution_count": 7,
      "outputs": []
    }
  ]
}